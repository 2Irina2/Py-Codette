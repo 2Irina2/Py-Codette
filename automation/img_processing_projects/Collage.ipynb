{
 "cells": [
  {
   "cell_type": "markdown",
   "metadata": {},
   "source": [
    "# Collage"
   ]
  },
  {
   "cell_type": "markdown",
   "metadata": {},
   "source": [
    "Scopul acestui proiect este de a face backend-ul (adică logica din spate) pentru o alpicație de făcut colaje. Mai târziu, dacă ne pasionează subiectul și ne trezește interesul, vom putea îmbunătăți progrămelul adăugându-i și un frontend (adică o interfață grafică).\n",
    "\n",
    "Pe baza tutorialului prezentat anterior, și cu o arhitectură modularizată și structurată corespunzător (mulțumită echipei de Py), veți fi capabili să rezolvați TODO-urile de mai jos și să obțineți satisfacția realizării propriului \"Collage Maker\" :)\n",
    "\n",
    "Enjoy!"
   ]
  },
  {
   "cell_type": "markdown",
   "metadata": {},
   "source": [
    "PASUL 1: \n",
    "    Ce model vrem pentru collage-ul nostru?"
   ]
  },
  {
   "cell_type": "code",
   "execution_count": null,
   "metadata": {
    "collapsed": true
   },
   "outputs": [],
   "source": []
  }
 ],
 "metadata": {
  "anaconda-cloud": {},
  "kernelspec": {
   "display_name": "Python [conda root]",
   "language": "python",
   "name": "conda-root-py"
  },
  "language_info": {
   "codemirror_mode": {
    "name": "ipython",
    "version": 3
   },
   "file_extension": ".py",
   "mimetype": "text/x-python",
   "name": "python",
   "nbconvert_exporter": "python",
   "pygments_lexer": "ipython3",
   "version": "3.5.2"
  }
 },
 "nbformat": 4,
 "nbformat_minor": 1
}
