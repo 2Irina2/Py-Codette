{
 "cells": [
  {
   "cell_type": "markdown",
   "metadata": {},
   "source": [
    "# Add logo to a batch of images"
   ]
  },
  {
   "cell_type": "markdown",
   "metadata": {},
   "source": [
    "Haideți să vedem cum putem automatiza munca plictisitoare pe care o presupune  adăugarea unui logo la un grup de imagini. După cum vă imaginați, a face asta de mână într-un program free poate dura destul de mult, și, în plus, este o treabă destul de plictisitoare.\n",
    "Iar programe precum Photoshop sau Lightroom costă destul de mult și nu sunt chiar super-ușor de folosit instant."
   ]
  },
  {
   "cell_type": "markdown",
   "metadata": {},
   "source": [
    "PASUL 1: Pentru ce imagini adăugăm logo?\n",
    "    - Cu alte cuvinte, vom cere user-ului să introducă de la tastatură:\n",
    "        - calea către directorul unde se află imaginile de procesat\n",
    "        - care sunt extensiile de luat în calcul pentru procesare din acest director\n",
    "          NOTĂ: \n",
    "            de eliminat acele extensii care nu sunt extensii comune de imagini și de avertizat user-ul că \n",
    "            acea extensie nu va fi luată în calcul."
   ]
  },
  {
   "cell_type": "code",
   "execution_count": 1,
   "metadata": {
    "collapsed": false
   },
   "outputs": [
    {
     "name": "stdout",
     "output_type": "stream",
     "text": [
      "Introduce the path to the directory where the images to be processed are: C:\\Users\\mgaman\\Pictures\\pycodette_extra_reduced\n",
      "Specify the first extension to be considered: .JPG\n",
      "Do you have another extension to introduce? yes/[no] \n",
      "['_DSC0643.JPG', '_DSC0644.JPG', '_DSC0648.JPG', '_DSC0649.JPG', '_DSC0655.JPG', '_DSC0656.JPG', '_DSC0659.JPG', '_DSC0661.JPG', '_DSC0663.JPG', '_DSC0664.JPG', '_DSC0667.JPG', '_DSC0697.JPG', '_DSC0699.JPG', '_DSC0700.JPG', '_DSC0701.JPG', '_DSC0703.JPG', '_DSC0706.JPG', '_DSC0708.JPG', '_DSC0711.JPG', '_DSC0712.JPG', '_DSC0715.JPG', '_DSC0733.JPG', '_DSC0736.JPG', '_DSC0777.JPG', '_DSC0779.JPG', '_DSC0796.JPG', '_DSC0797.JPG', '_DSC0801.JPG', '_DSC0803.JPG', '_DSC0805.JPG', '_DSC0806.JPG', '_DSC0807.JPG', '_DSC0808.JPG', '_DSC0809.JPG', '_DSC0812.JPG', '_DSC0813.JPG', '_DSC0814.JPG', '_DSC0821.JPG', '_DSC0824.JPG', '_DSC0846.JPG', '_DSC0850.JPG', '_DSC0954.JPG', '_DSC0955.JPG', '_DSC0956.JPG', '_DSC0957.JPG', '_DSC0958.JPG']\n"
     ]
    }
   ],
   "source": [
    "# TODO 1.1. - import modules useful in current dir change and containing image processing useful methods\n",
    "from PIL import Image\n",
    "import os\n",
    "\n",
    "# TODO 1.2. - save in a variable the path to the directory where we want to take the images from\n",
    "# \"C:\\Users\\mgaman\\Pictures\\pycodette_extra_reduced\"\n",
    "from_dir = input(\"Introduce the path to the directory where the images to be processed are: \")\n",
    "os.chdir(from_dir)\n",
    "\n",
    "# TODO 1.3. - Ask user to specify extensions desired\n",
    "extensions = []\n",
    "accepted_ext = [\".jpg\", \".jpeg\", \".png\", \".bmp\", \".ppm\", \".pgm\", \".pbm\", \".pnm\"]\n",
    "ext = input(\"Specify the first extension to be considered: \")\n",
    "while True:\n",
    "    if ext[0] != '.':\n",
    "        ext = '.' + ext\n",
    "    # NOTE: we do not care if the extension is uppercase or lower case. \n",
    "    # All of these cases should be considered as valid extensions\n",
    "    if ext.lower() in accepted_ext:\n",
    "        extensions.append(ext)\n",
    "        another = input(\"Do you have another extension to introduce? yes/[no] \")\n",
    "        if another == \"yes\":\n",
    "            ext = input(\"Introduce the next extension: \")\n",
    "            continue\n",
    "        break\n",
    "    ext = input(\"This not a valid image extension. Try again! \")\n",
    "\n",
    "\n",
    "# TODO 1.4. - Keep a list of image objects all from this dir having one of the the specified extensions  \n",
    "to_be_proc_list = []\n",
    "im_names = []\n",
    "for filename in os.listdir(from_dir):\n",
    "    for ext in extensions:\n",
    "        if filename.endswith(ext):\n",
    "            to_be_proc_list.append(Image.open(filename)) \n",
    "            im_names.append(filename)\n",
    "            continue\n",
    "# Test        \n",
    "print(im_names)"
   ]
  },
  {
   "cell_type": "markdown",
   "metadata": {},
   "source": [
    "PASUL 2 \n",
    "    - Unde este logo-ul?\n",
    "    - vrem să fie mai mare, mai mic, la fel?\n",
    "    - în care colț al imaginii îl așezăm?\n",
    "      Răspunsul la această întrebare va presupune, desigur, și a calcula poziția colțului \n",
    "      stânga sus a logo-ului relativ la dimensiunile imaginii și la dimensiunile acestuia.\n",
    "      Însă nu vom face acest lucru la pasul curent, căci este mai eficient să calculăm \n",
    "      poziția logo-ului în funcție de proprietățile fiecărei imagini, atunci când vom modifica efectiv\n",
    "      imaginile. "
   ]
  },
  {
   "cell_type": "code",
   "execution_count": 2,
   "metadata": {
    "collapsed": false
   },
   "outputs": [
    {
     "name": "stdout",
     "output_type": "stream",
     "text": [
      "The path to the logo is... C:\\Users\\mgaman\\Downloads\\logo-text.png\n",
      "Will the logo be smaller than original? smaller/bigger/same : SAME\n",
      "Where do you want the logo? [UP_LEFT]/DOWN_LEFT/UP_RIGHT/DOWN_RIGHT DOWN_RIGHT\n"
     ]
    }
   ],
   "source": [
    "# TODO 2 - logo directory & name + scale size of logo\n",
    "# TODO 2.1: get as input from user the logo path\n",
    "# \"C:\\Users\\mgaman\\Downloads\\logo-text.png\"\n",
    "logo_path = input(\"The path to the logo is... \")\n",
    "# TODO 2.2: Associate an object that can be used in our program, with the image at this path\n",
    "logo_initial_obj = Image.open(logo_path)\n",
    "# TODO 2.3: Ask the user if it is upscale or down scale and by how much (width, height)\n",
    "smaller = input(\"Will the logo be smaller than original? smaller/bigger/same : \")\n",
    "w, h = logo_initial_obj.size\n",
    "if smaller == \"smaller\":\n",
    "    scale_factor_w = int(input(\"By how much to reduce the weight? \"))\n",
    "    scale_factor_h = int(input(\"By how much to reduce the height? \"))\n",
    "    w, h = w / scale_factor_w, h / scale_factor_h\n",
    "elif smaller == \"bigger\":\n",
    "    scale_factor_w = int(input(\"By how much to reduce the weight? \"))\n",
    "    scale_factor_h = int(input(\"By how much to reduce the height? \"))\n",
    "    w, h = w * scale_factor_w, h * scale_factor_h\n",
    "\n",
    "# TODO 2.4: Build another object with the original logo resized to what's better for us\n",
    "logo_obj = logo_initial_obj.resize((int(w), int(h)))\n",
    "\n",
    "# TODO 2.5. - In which corner of the image will the logo be put?\n",
    "corner = input(\"Where do you want the logo? [UP_LEFT]/DOWN_LEFT/UP_RIGHT/DOWN_RIGHT \")\n",
    "if corner.upper not in [\"UP_LEFT\", \"UP_RIGHT\", \"DOWN_LEFT\", \"DOWN_RIGHT\"]:\n",
    "    corner = \"DOWN_RIGHT\""
   ]
  },
  {
   "cell_type": "markdown",
   "metadata": {},
   "source": [
    "PASUL 3 - Adăugare funcții pentru determinarea poziției logo-ului în funcție de \n",
    "          dimensiunea sa și de cea a imaginii"
   ]
  },
  {
   "cell_type": "code",
   "execution_count": 3,
   "metadata": {
    "collapsed": true
   },
   "outputs": [],
   "source": [
    "# TODO 3 - Add a function which can determine a proper position of the left corner fo the logo, relative to\n",
    "#          the image it will be put on\n",
    "def get_corner_pos(w_logo, h_logo, w_img, h_img, corner):\n",
    "    until_margin = int(min(w_logo, h_logo) / 4)\n",
    "    pos_coords = {\"UP_LEFT\": (until_margin, until_margin),\\\n",
    "                 \"UP_RIGHT\": (w_img - w_logo - until_margin, until_margin), \\\n",
    "                 \"DOWN_LEFT\": (until_margin, h_img - h_logo - until_margin), \\\n",
    "                 \"DOWN_RIGHT\": (w_img - w_logo - until_margin, h_img - h_logo - until_margin)}\n",
    "    return pos_coords[corner]\n",
    "    "
   ]
  },
  {
   "cell_type": "markdown",
   "metadata": {},
   "source": [
    "PASUL 4 - Unde salvez imaginile brand-uite?"
   ]
  },
  {
   "cell_type": "code",
   "execution_count": 4,
   "metadata": {
    "collapsed": false
   },
   "outputs": [
    {
     "name": "stdout",
     "output_type": "stream",
     "text": [
      "Introduce path to parent directory of destination folder: C:\\\\Users\\\\mgaman\\\\Pictures\n"
     ]
    }
   ],
   "source": [
    "# TODO 4 - Where do I save the new images?\n",
    "# TODO 4.1 - set the path to the directory where to copy the modified images\n",
    "# C:\\\\Users\\\\mgaman\\\\Pictures\n",
    "to_dir_path = input(\"Introduce path to parent directory of destination folder: \")\n",
    "# Change current directory to the value of this path\n",
    "os.chdir(to_dir_path)\n",
    "\n",
    "# TODO 4.2 - introduce directory name at this path. \n",
    "#            If the directory with the name introduced does not exist, create it.\n",
    "to_dir_name = \"pycodette_loggoed\"\n",
    "if not os.path.exists(to_dir_name):\n",
    "    os.makedirs(to_dir_name)\n",
    "# Change directory to the created dir\n",
    "os.chdir(to_dir_name)"
   ]
  },
  {
   "cell_type": "markdown",
   "metadata": {},
   "source": [
    "Pasul 2: Salvăm imaginile găsite anterior, dar cu paste la logo în colțul indicat de user."
   ]
  },
  {
   "cell_type": "code",
   "execution_count": 5,
   "metadata": {
    "collapsed": true
   },
   "outputs": [],
   "source": [
    "# TODO 5.1. - create a new list of image objects\n",
    "img_processed_list = []\n",
    "import copy\n",
    "\n",
    "# TODO 5.2. - iterate through the list of images to be processed\n",
    "# Hint: use for\n",
    "for i in range(len(to_be_proc_list)):\n",
    "    img = to_be_proc_list[i]\n",
    "    img_new = copy.deepcopy(img)\n",
    "    w_logo, h_logo = logo_obj.size\n",
    "    w_img, h_img = img.size\n",
    "    pos_new = get_corner_pos(w_logo, h_logo, w_img, h_img, corner)\n",
    "    img_new.paste(logo_obj, pos_new, logo_obj)\n",
    "    \n",
    "    # Save the new image into the current working directory\n",
    "    img_new.save(im_names[i])"
   ]
  }
 ],
 "metadata": {
  "anaconda-cloud": {},
  "kernelspec": {
   "display_name": "Python [conda root]",
   "language": "python",
   "name": "conda-root-py"
  },
  "language_info": {
   "codemirror_mode": {
    "name": "ipython",
    "version": 3
   },
   "file_extension": ".py",
   "mimetype": "text/x-python",
   "name": "python",
   "nbconvert_exporter": "python",
   "pygments_lexer": "ipython3",
   "version": "3.5.2"
  }
 },
 "nbformat": 4,
 "nbformat_minor": 1
}
