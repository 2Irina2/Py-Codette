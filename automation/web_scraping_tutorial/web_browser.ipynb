{
 "cells": [
  {
   "cell_type": "markdown",
   "metadata": {},
   "source": [
    "# Broooo ... wsing"
   ]
  },
  {
   "cell_type": "markdown",
   "metadata": {},
   "source": [
    "Ce facem dacă vrem să căutăm informații pe internet dacă ne este prea lene să deschidem browser-ul? Răspunsul: facem un script care să caute pentru noi. \n",
    "\n",
    "Dar până atunci, hai să vedem cum putem deschide browserul peferat.\n"
   ]
  },
  {
   "cell_type": "markdown",
   "metadata": {},
   "source": [
    "Vom folosi biblioteca webbrowser. Aceasta cuprinde funcțiile importante pentru pentru accesul browser-ul de pe calculatorul nostru.\n",
    "\n",
    "Primul lucru pe care îl vom face va fi să deschidem browser-ul default folosind functia de **open**.\n",
    "\n",
    "Dacă browserul default e deja deschis, funcția va deschide un tab nou cu url-ul pe care l-am dat ca parametru. Putem folosi și funcția de **open_new_tab**. Intuiți ce face?"
   ]
  },
  {
   "cell_type": "code",
   "execution_count": null,
   "metadata": {},
   "outputs": [],
   "source": [
    "import webbrowser\n",
    "\n",
    "webbrowser.open('https://www.google.com/')\n",
    "webbrowser.open('https://www.facebook.com/')"
   ]
  },
  {
   "cell_type": "markdown",
   "metadata": {},
   "source": [
    "Putem dechide și un alt browser decât cel default, cu condiția ca acesta să fie deja instalat pe sitemul de operare.\n",
    "\n",
    "Accesul la un alt browser îl obținem folosind un obiect de tip *controller* întors de funcția **get**.\n"
   ]
  },
  {
   "cell_type": "code",
   "execution_count": null,
   "metadata": {},
   "outputs": [],
   "source": [
    "import webbrowser\n",
    "\n",
    "# Get the controller object\n",
    "chrome = webbrowser.get('chromium-browser')\n",
    "# Open the browser\n",
    "chrome.open('https://www.google.com')"
   ]
  },
  {
   "cell_type": "markdown",
   "metadata": {},
   "source": [
    "Dacă avem probleme, putem consulata documentația de [webbrowser](https://docs.python.org/3.5/library/webbrowser.html).\n",
    "\n",
    "În exemplul următor:\n",
    "* obținem controller-u pentru chrome și îl deschidem\n",
    "* așteptăm 3 secunde până se deschide chrome\n",
    "* deschidem 3 tab-uri noi în instanța de chrome\n",
    "\n",
    "\n"
   ]
  },
  {
   "cell_type": "code",
   "execution_count": null,
   "metadata": {},
   "outputs": [],
   "source": [
    "import webbrowser\n",
    "import time\n",
    "\n",
    "# Get the controller and open de browser\n",
    "chrome = webbrowser.get('chromium-browser')\n",
    "chrome.open('https://www.google.com')\n",
    "\n",
    "time.sleep(3)\n",
    "\n",
    "# Open your 3 favorites websites, each one in a new tab\n",
    "chrome.open_new_tab('https://www.facebook.com/')\n",
    "chrome.open_new_tab('https://twitter.com/')\n",
    "chrome.open_new_tab('https://www.pinterest.com/')\n"
   ]
  },
  {
   "cell_type": "markdown",
   "metadata": {},
   "source": [
    "Bine, bine. Putem să deschidem pagini, dar dacă vrem să căutăm ceva pe google?\n",
    "\n",
    "Nimic mai simplu!\n",
    "\n",
    "Trebuie să adăugăm *\"search?q=\"* după google, plus cuvintele pe care vrem să le căutăm. Litera *q* vine de la *query*.  "
   ]
  },
  {
   "cell_type": "code",
   "execution_count": null,
   "metadata": {},
   "outputs": [],
   "source": [
    "import webbrowser\n",
    "\n",
    "query = input(\"What do you want to search?\\n\")\n",
    "webbrowser.open('https://www.google.com/search?q=' + query)"
   ]
  },
  {
   "cell_type": "markdown",
   "metadata": {},
   "source": [
    "Acum, hai să căutăm o adresă pe google maps.\n",
    "\n"
   ]
  },
  {
   "cell_type": "code",
   "execution_count": null,
   "metadata": {},
   "outputs": [],
   "source": [
    "import webbrowser\n",
    "\n",
    "address = input(\"What address do you want to search?\\n\")\n",
    "\n",
    "chrome = webbrowser.get('chromium-browser')\n",
    "chrome.open('https://www.google.com/maps/place/' + address)\n"
   ]
  },
  {
   "cell_type": "markdown",
   "metadata": {},
   "source": [
    "## Imagini de pe Pinterest"
   ]
  },
  {
   "cell_type": "markdown",
   "metadata": {},
   "source": [
    "Am aflat cum căutăm informații pe Google, cum găsit o adresă în Google Maps. Acum vrem să descărcăm imagini. Și care este cel mai bun site pentru imagini? Ați ghicit?\n",
    "\n",
    "Întâi de toate, trebuie să facem o căutare pe Pineterest, similară cu căutarea pe Google. Apoi, în browser la codul HTML și identificăm *clasa* cea mai apropiată de locul unde se află tag-ul de *img*. În cazul de față, clasa este *.heightContainer*.\n",
    "\n",
    "Obținem link-ul imaginii care se află în *src* și mai facem un request pentru a descărca doar imaginea.\n",
    "\n",
    "Acum, putem scrie imaginea într-un fișier local.\n",
    "\n",
    "*Obs. Ignorați warning-urile de certificate*"
   ]
  },
  {
   "cell_type": "code",
   "execution_count": 2,
   "metadata": {},
   "outputs": [
    {
     "name": "stdout",
     "output_type": "stream",
     "text": [
      "What do you want to search?\n",
      "summer fashion\n",
      "Pinteresting ... \n"
     ]
    },
    {
     "name": "stderr",
     "output_type": "stream",
     "text": [
      "/usr/lib/python3/dist-packages/urllib3/connectionpool.py:794: InsecureRequestWarning: Unverified HTTPS request is being made. Adding certificate verification is strongly advised. See: https://urllib3.readthedocs.org/en/latest/security.html\n",
      "  InsecureRequestWarning)\n"
     ]
    },
    {
     "name": "stdout",
     "output_type": "stream",
     "text": [
      "50\n",
      "https://s-media-cache-ak0.pinimg.com/236x/d4/a7/cb/d4a7cbeb290019c6da8d133a05e6ebca.jpg\n"
     ]
    }
   ],
   "source": [
    "import requests, sys, webbrowser, bs4\n",
    "\n",
    "query = input(\"What do you want to search?\\n\")\n",
    "\n",
    "print (\"Pinteresting ... \")\n",
    "# Search on pinterest. Eg. summer fashion\n",
    "res = requests.get('https://ro.pinterest.com/search/pins/?q=' + query, verify=False)\n",
    "res.raise_for_status()\n",
    "\n",
    "# Parse the HTML code\n",
    "soup = bs4.BeautifulSoup(res.text, \"lxml\")\n",
    "linkElems = soup.select('.heightContainer img')\n",
    "\n",
    "# Get the img link and request the image\n",
    "image_url = linkElems[0].get('src')\n",
    "res2 = requests.get(image_url, verify=False)\n",
    "res2.raise_for_status()\n",
    "\n",
    "# Write the image in a local file\n",
    "first_image = playFile = open('first_image', 'wb')\n",
    "for chunk in res2.iter_content(100000):\n",
    "    first_image.write(chunk)\n",
    "\n",
    "\n"
   ]
  }
 ],
 "metadata": {
  "kernelspec": {
   "display_name": "Python 3",
   "language": "python",
   "name": "python3"
  },
  "language_info": {
   "codemirror_mode": {
    "name": "ipython",
    "version": 3
   },
   "file_extension": ".py",
   "mimetype": "text/x-python",
   "name": "python",
   "nbconvert_exporter": "python",
   "pygments_lexer": "ipython3",
   "version": "3.5.2"
  }
 },
 "nbformat": 4,
 "nbformat_minor": 2
}
