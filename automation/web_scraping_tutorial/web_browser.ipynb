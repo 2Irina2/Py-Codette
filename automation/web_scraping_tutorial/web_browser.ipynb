{
 "cells": [
  {
   "cell_type": "markdown",
   "metadata": {},
   "source": [
    "# Broooo ... wsing"
   ]
  },
  {
   "cell_type": "markdown",
   "metadata": {},
   "source": [
    "Ce facem dacă vrem să căutăm informații pe internet dacă ne este prea lene să deschidem browser-ul? Răspunsul: facem un script care să caute pentru noi. \n",
    "\n",
    "Dar până atunci, hai să vedem cum putem deschide browserul peferat.\n"
   ]
  },
  {
   "cell_type": "markdown",
   "metadata": {},
   "source": [
    "Vom folosi biblioteca webbrowser. Aceasta cuprinde funcțiile importante pentru pentru accesul browser-ul de pe calculatorul nostru.\n",
    "\n",
    "Primul lucru pe care îl vom face va fi să deschidem browser-ul default folosind functia de **open**.\n",
    "\n",
    "Dacă browserul default e deja deschis, funcția va deschide un tab nou cu url-ul pe care l-am dat ca parametru. Putem folosi și funcția de **open_new_tab**. Intuiți ce face?"
   ]
  },
  {
   "cell_type": "code",
   "execution_count": null,
   "metadata": {
    "collapsed": true
   },
   "outputs": [],
   "source": [
    "import webbrowser\n",
    "\n",
    "webbrowser.open('https://www.google.com/')\n",
    "webbrowser.open('https://www.facebook.com/')"
   ]
  },
  {
   "cell_type": "markdown",
   "metadata": {},
   "source": [
    "Putem dechide și un alt browser decât cel default, cu condiția ca acesta să fie deja instalat pe sitemul de operare.\n",
    "\n",
    "Accesul la un alt browser îl obținem folosind un obiect de tip *controller* întors de funcția **get**.\n"
   ]
  },
  {
   "cell_type": "code",
   "execution_count": null,
   "metadata": {
    "collapsed": true
   },
   "outputs": [],
   "source": [
    "import webbrowser\n",
    "\n",
    "# Get the controller object\n",
    "chrome = webbrowser.get('chromium-browser')\n",
    "# Open the browser\n",
    "chrome.open('https://www.google.com')"
   ]
  },
  {
   "cell_type": "markdown",
   "metadata": {},
   "source": [
    "Dacă avem probleme, putem consulata documentația de [webbrowser](https://docs.python.org/3.5/library/webbrowser.html).\n",
    "\n",
    "În exemplul următor:\n",
    "* obținem controller-u pentru chrome și îl deschidem\n",
    "* așteptăm 3 secunde până se deschide chrome\n",
    "* deschidem 3 tab-uri noi în instanța de chrome\n",
    "\n",
    "\n"
   ]
  },
  {
   "cell_type": "code",
   "execution_count": null,
   "metadata": {
    "collapsed": true
   },
   "outputs": [],
   "source": [
    "import webbrowser\n",
    "import time\n",
    "\n",
    "# Get the controller and open de browser\n",
    "chrome = webbrowser.get('chromium-browser')\n",
    "chrome.open('https://www.google.com')\n",
    "\n",
    "time.sleep(3)\n",
    "\n",
    "# Open your 3 favorites websites, each one in a new tab\n",
    "chrome.open_new_tab('https://www.facebook.com/')\n",
    "chrome.open_new_tab('https://twitter.com/')\n",
    "chrome.open_new_tab('https://www.pinterest.com/')\n"
   ]
  },
  {
   "cell_type": "markdown",
   "metadata": {},
   "source": [
    "Bine, bine. Putem să deschidem pagini, dar dacă vrem să căutăm ceva pe google?\n",
    "\n",
    "Nimic mai simplu!\n",
    "\n",
    "Trebuie să adăugăm *\"search?q=\"* după google, plus cuvintele pe care vrem să le căutăm. Litera *q* vine de la *query*.  "
   ]
  },
  {
   "cell_type": "code",
   "execution_count": null,
   "metadata": {
    "collapsed": true
   },
   "outputs": [],
   "source": [
    "import webbrowser\n",
    "\n",
    "query = input(\"What do you want to search?\\n\")\n",
    "webbrowser.open('https://www.google.com/search?q=' + query)"
   ]
  },
  {
   "cell_type": "markdown",
   "metadata": {},
   "source": [
    "Acum, hai să căutăm o adresă pe google maps.\n",
    "\n"
   ]
  },
  {
   "cell_type": "code",
   "execution_count": null,
   "metadata": {
    "collapsed": true
   },
   "outputs": [],
   "source": [
    "import webbrowser\n",
    "\n",
    "address = input(\"What address do you want to search?\\n\")\n",
    "\n",
    "chrome = webbrowser.get('chromium-browser')\n",
    "chrome.open('https://www.google.com/maps/place/' + address)\n"
   ]
  },
  {
   "cell_type": "markdown",
   "metadata": {},
   "source": [
    "## Imagini de pe XKCD"
   ]
  },
  {
   "cell_type": "markdown",
   "metadata": {},
   "source": [
    "Cui îi plac comicurile? Mie, mie, mie! Dar ce facem dacă vrem să vedem toate comicurile de la XKCD, iar a doua zi trebuie să plecăm la țară? O variantă foarte simplă este să le descărcăm local. Daaar .. cine are chef să descarce fiecare poză în parte?\n",
    "\n",
    "\n",
    "Python ne vine în ajutor! Îl vom \"dresa\" să descarce el pozele pentru noi. Mwhaha!"
   ]
  },
  {
   "cell_type": "code",
   "execution_count": null,
   "metadata": {},
   "outputs": [],
   "source": [
    "import requests, os, bs4\n",
    "\n",
    "url = 'http://xkcd.com'\n",
    "# Store the commics in a specific folder\n",
    "os.makedirs('xkcd', exist_ok=True)\n",
    "\n",
    "\n",
    "while not url.endswith('#'):\n",
    "    # Download the main page\n",
    "    print('Downloading page %s' % url)\n",
    "    res = requests.get(url)\n",
    "    res.raise_for_status()\n",
    "    soup = bs4.BeautifulSoup(res.text, \"lxml\")\n",
    "    \n",
    "    # Find the URL of the comic image.\n",
    "    comicElem = soup.select('#comic img')\n",
    "    if comicElem == []:\n",
    "        print('Could not find comic image.')\n",
    "    else:\n",
    "        # Get the url of the image\n",
    "        comicUrl = comicElem[0].get('src')\n",
    "        # Download the image.\n",
    "        print('Downloading image %s' % (comicUrl))\n",
    "        \n",
    "        # Add the protocol, https\n",
    "        comicUrl = \"https:\" + comicUrl\n",
    "        res = requests.get(comicUrl)\n",
    "        res.raise_for_status()\n",
    "        \n",
    "        # Save the image to ./xkcd.\n",
    "        imageFile = open(os.path.join('xkcd', os.path.basename(comicUrl)), 'wb')\n",
    "        for chunk in res.iter_content(100000):\n",
    "            imageFile.write(chunk)\n",
    "        imageFile.close()\n",
    "\n",
    "    # Get the Prev button's url.\n",
    "    prevLink = soup.select('a[rel=\"prev\"]')[0]\n",
    "    url = 'http://xkcd.com' + prevLink.get('href')\n",
    "    \n",
    "    \n"
   ]
  }
 ],
 "metadata": {
  "kernelspec": {
   "display_name": "Python 3",
   "language": "python",
   "name": "python3"
  },
  "language_info": {
   "codemirror_mode": {
    "name": "ipython",
    "version": 3
   },
   "file_extension": ".py",
   "mimetype": "text/x-python",
   "name": "python",
   "nbconvert_exporter": "python",
   "pygments_lexer": "ipython3",
   "version": "3.5.2"
  }
 },
 "nbformat": 4,
 "nbformat_minor": 2
}
