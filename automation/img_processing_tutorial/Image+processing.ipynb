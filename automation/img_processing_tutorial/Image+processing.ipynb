{
 "cells": [
  {
   "cell_type": "markdown",
   "metadata": {},
   "source": [
    "RGBA - cât roșu, verde, albastru am într-o imagine (de la 0 la 255).\n",
    "A - vine de la alpha. Aka: transparența culorii.\n",
    "În Pillow, roșu este reprezentat ca (255, 0, 0, 255). Adică nu am deloc componentele de verde și albastru, iar culoarea este total opacă. "
   ]
  }
 ],
 "metadata": {
  "anaconda-cloud": {},
  "kernelspec": {
   "display_name": "Python [conda root]",
   "language": "python",
   "name": "conda-root-py"
  },
  "language_info": {
   "codemirror_mode": {
    "name": "ipython",
    "version": 3
   },
   "file_extension": ".py",
   "mimetype": "text/x-python",
   "name": "python",
   "nbconvert_exporter": "python",
   "pygments_lexer": "ipython3",
   "version": "3.5.2"
  }
 },
 "nbformat": 4,
 "nbformat_minor": 1
}
