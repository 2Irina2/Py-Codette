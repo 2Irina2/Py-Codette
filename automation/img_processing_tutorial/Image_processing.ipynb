{
 "cells": [
  {
   "cell_type": "markdown",
   "metadata": {},
   "source": [
    "RGBA - cât roșu, verde, albastru am într-o imagine (de la 0 la 255).\n",
    "A - vine de la alpha. Aka: transparența culorii.\n",
    "În Pillow, roșu este reprezentat ca (255, 0, 0, 255). Adică nu am deloc componentele de verde și albastru, iar culoarea este total opacă. \n",
    "Alb: (255, 255, 255).\n",
    "Negru: (0, 0, 0, 255).\n",
    "\n",
    "Mai jos avem câteva funcții utile din API-ul de PILLOW."
   ]
  },
  {
   "cell_type": "code",
   "execution_count": 1,
   "metadata": {
    "collapsed": false
   },
   "outputs": [
    {
     "name": "stdout",
     "output_type": "stream",
     "text": [
      "CornFlowerBlue:  (100, 149, 237, 255)\n",
      "chocolate:  (210, 105, 30, 255)\n"
     ]
    }
   ],
   "source": [
    "from PIL import ImageColor\n",
    "\n",
    "# We can use getcolor to get the actual rgba tuple associated with a color given by name\n",
    "# The name passed as parameter is case insensitive\n",
    "rgba_cfb = ImageColor.getcolor('CornFlowerBlue', 'RGBA')\n",
    "rgba_choc = ImageColor.getcolor('chocolate', 'RGBA')\n",
    "\n",
    "print(\"CornFlowerBlue: \", rgba_cfb)\n",
    "print(\"chocolate: \", rgba_choc)"
   ]
  },
  {
   "cell_type": "markdown",
   "metadata": {},
   "source": [
    "Originea imaginii: (0, 0) - colțul din stânga sus al ecranului.\n",
    "Coordonate:\n",
    "    - x: crește de la stânga la dreapta\n",
    "    - y crește în jos\n",
    "    \n",
    "În continuare mai avem câteva exemple de cum să folosim manipularea de imagini cu pillow."
   ]
  },
  {
   "cell_type": "code",
   "execution_count": 8,
   "metadata": {
    "collapsed": false
   },
   "outputs": [
    {
     "name": "stdout",
     "output_type": "stream",
     "text": [
      "The size of trumpImg is:  (1296, 730)\n",
      "The name of the image file is:  trumpish.jpg\n",
      "Format:  JPEG\n",
      "Format description:  JPEG (ISO 10918)\n"
     ]
    }
   ],
   "source": [
    "# The name of the module is PIL and not pillow in order to ensure backward compatibili5ty with another module\n",
    "# which is older and called Python Imaging Library\n",
    "from PIL import Image\n",
    "import os\n",
    "\n",
    "# this changes the working directory\n",
    "# to be used if the image is at a different path in the file system\n",
    "os.chdir('C:\\\\Users\\mgaman\\\\Downloads')\n",
    "\n",
    "# This saves in trumpImg the reference to our image file.\n",
    "trumpImg = Image.open('trumpish.jpg')\n",
    "\n",
    "# Print the size of the image\n",
    "print(\"The size of trumpImg is: \", trumpImg.size)\n",
    "# the name of the image file\n",
    "print(\"The name of the image file is: \", trumpImg.filename)\n",
    "# format\n",
    "print(\"Format: \", trumpImg.format)\n",
    "# format description\n",
    "print(\"Format description: \", trumpImg.format_description)\n",
    "# save another image based on this object\n",
    "trumpImg.save(\"trumpish_copy.png\")"
   ]
  },
  {
   "cell_type": "markdown",
   "metadata": {},
   "source": [
    "Folosind Pillow, putem chiar să ne creem imagini noi de la zero.\n",
    "Un mic tutorial în acest sens avem mai jos:"
   ]
  },
  {
   "cell_type": "code",
   "execution_count": 11,
   "metadata": {
    "collapsed": true
   },
   "outputs": [],
   "source": [
    "from PIL import Image\n",
    "\n",
    "# (150, 300) here specifies the size of the image given by width and height\n",
    "# if no color is provided as the third parametr, we wioll obtain a transparent image\n",
    "presidential_orange = Image.new('RGBA', (150, 300), 'orange')\n",
    "presidential_orange.save('orange_trump.jpg')"
   ]
  },
  {
   "cell_type": "markdown",
   "metadata": {},
   "source": [
    "Să învățăm acum cum să:\n",
    "    - tăiem imagini (crop)\n",
    "    - copiem imagini (sau bucăți din acestea) peste alte imagini\n",
    "        - de notat că, în ciuda numelor, metodele de copy și paste din pillow nu au nimic de a face cu\n",
    "        clipboard-ul.\n",
    "        - mare atenție și la imaginile cu pixeli transparenți (cu alpha = 0). Acolo pixelii sunt tratați ca \n",
    "        opaci (alb) la paste.\n",
    "    - resize\n",
    "    - rotate & flip"
   ]
  },
  {
   "cell_type": "code",
   "execution_count": 30,
   "metadata": {
    "collapsed": false
   },
   "outputs": [],
   "source": [
    "from PIL import Image\n",
    "import os\n",
    "\n",
    "os.chdir('C:\\\\Users\\mgaman\\\\Downloads')\n",
    "\n",
    "######################### CROP #########################\n",
    "trumpImg = Image.open('trumpish.jpg')\n",
    "# The image cropped will be associated with another object...\n",
    "croppedTrump = trumpImg.crop((400, 150, 1090, 530))\n",
    "# ... and we have to save the contents of this object in an image file.\n",
    "# Thus the old image will stay the same (will not be changed by this operation)\n",
    "croppedTrump.save('trumpish_cropped.jpg')\n",
    "\n",
    "######################## Copy & paste ######################\n",
    "# image to be cropped\n",
    "trumpImg2 = Image.open('donald-trump-simpsons.jpg')\n",
    "(w, h) = trumpImg2.size\n",
    "\n",
    "# We want to crop the head\n",
    "crop_xi, crop_xf = 150, int(w/2) + 50\n",
    "crop_w = crop_xf - crop_xi\n",
    "c_simps_trump = trumpImg2.crop((crop_xi, 50, crop_xf, int(h/2)))\n",
    "c_simps_trump.save('trumpish_cropped_simpsons.jpg')\n",
    "\n",
    "new_w, new_h = 600, 400\n",
    "presidential_orange = Image.new('RGBA', (new_w, new_h), 'orange')\n",
    "\n",
    "# Now add 3 Trump images in the new orange image\n",
    "no_copies = 3\n",
    "# How much space is left after all the images are copied one near the other\n",
    "space = int((new_w - no_copies * crop_w) / 3)\n",
    "# how much of this space receives each image\n",
    "# (this is the space left between the copies pasted on the orange background)\n",
    "offset_x = int(space / no_copies)\n",
    "for i in range(no_copies):\n",
    "    presidential_orange.paste(c_simps_trump, (i * (crop_w + offset_x), 0))\n",
    "#... and save\n",
    "presidential_orange.save('orange_trump.jpg')\n",
    "\n",
    "########################### RESIZE #########################\n",
    "w_trumpImg, h_trumpImg = trumpImg.size\n",
    "smallTrump = trumpImg.resize((int(w_trumpImg/2), int(h_trumpImg/2)))\n",
    "smallTrump.save('small_trump.jpg')\n",
    "\n",
    "########################### ROTATE AND FLIP #########################\n",
    "# Paste all the rotations in a single image\n",
    "rick_morty_sample = Image.open('rick_morty.jpg')\n",
    "\n",
    "w_rm_sample, h_rm_sample = rick_morty_sample.size\n",
    "w_multi_rot = w_rm_sample + h_rm_sample\n",
    "h_multi_rot = w_multi_rot\n",
    "\n",
    "multi_rot = Image.new('RGBA', (w_multi_rot, h_multi_rot), 'skyblue')\n",
    "# Let's observe what happens with the size of the image rotated.\n",
    "# It keeps the same proportions as its source. \n",
    "# The padding is done using black opaque pixels \n",
    "# (on windows; on os-x there are transparent pixels used instead).\n",
    "# In order to fix this, call the method with the expand parameter set to True.\n",
    "multi_rot.paste(rick_morty_sample.rotate(0, expand=True), (0, 0))\n",
    "multi_rot.paste(rick_morty_sample.rotate(90, expand=True), (w_rm_sample, 0))\n",
    "multi_rot.paste(rick_morty_sample.rotate(180, expand=True), ( h_rm_sample,h_multi_rot - h_rm_sample))\n",
    "multi_rot.paste(rick_morty_sample.rotate(270, expand=True), (0, h_rm_sample))\n",
    "\n",
    "multi_rot.save('multi_rot.jpg')\n",
    "\n",
    "# Now let's FLIP\n",
    "south_park_sample = Image.open('south_park.jpg')\n",
    "w_sp, h_sp = south_park_sample.size\n",
    "south_park_small = south_park_sample.resize((int(w_sp/2), int(h_sp/2)))\n",
    "\n",
    "multi_flips = Image.new('RGBA', (w_sp, h_sp), 'olive')\n",
    "multi_flips.paste(south_park_small, (0, 0))\n",
    "multi_flips.paste(south_park_small.transpose(Image.FLIP_LEFT_RIGHT), (int(w_sp/2), 0))\n",
    "multi_flips.paste(south_park_small, (0, int(h_sp/2)))\n",
    "multi_flips.paste(south_park_small.transpose(Image.FLIP_TOP_BOTTOM), (int(w_sp/2), (int(h_sp/2))))\n",
    "multi_flips.save('multi_flips.jpg')"
   ]
  },
  {
   "cell_type": "markdown",
   "metadata": {},
   "source": []
  }
 ],
 "metadata": {
  "anaconda-cloud": {},
  "kernelspec": {
   "display_name": "Python [conda root]",
   "language": "python",
   "name": "conda-root-py"
  },
  "language_info": {
   "codemirror_mode": {
    "name": "ipython",
    "version": 3
   },
   "file_extension": ".py",
   "mimetype": "text/x-python",
   "name": "python",
   "nbconvert_exporter": "python",
   "pygments_lexer": "ipython3",
   "version": "3.5.2"
  }
 },
 "nbformat": 4,
 "nbformat_minor": 1
}
