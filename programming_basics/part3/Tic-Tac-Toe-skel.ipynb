{
 "cells": [
  {
   "cell_type": "markdown",
   "metadata": {},
   "source": [
    "# The Tic-Tac-Toe game"
   ]
  },
  {
   "cell_type": "markdown",
   "metadata": {},
   "source": [
    "# Variabile globale"
   ]
  },
  {
   "cell_type": "markdown",
   "metadata": {},
   "source": [
    "Am învățat câte ceva despre variablie globale.\n",
    "În general, acestea se vor a fi evitate, urmând principiul \"Just because you can, doesn't mean you should\".\n",
    "Am putea scrie și acest program fără să folosim variabile globale, însă acesta este un caz unde există șanse foarte mici ca utilizarea acestui concept să producă vreun neajuns."
   ]
  },
  {
   "cell_type": "code",
   "execution_count": 65,
   "metadata": {
    "collapsed": true
   },
   "outputs": [],
   "source": [
    "player1 = \"\"\n",
    "player2 = \"\"\n",
    "score1 = \"\"\n",
    "score2 = \"\"\n",
    "turn = 1"
   ]
  },
  {
   "cell_type": "markdown",
   "metadata": {},
   "source": [
    "Vom începe prin a afișa pe ecran instrucțiunile jocului.\n",
    "În acest scop, veți completa funcția instructions().\n",
    "De ce credeți că este nevoie de o astfel de funcție?\n",
    "De ce nu scriem, pur și simplu, "
   ]
  },
  {
   "cell_type": "code",
   "execution_count": 66,
   "metadata": {
    "collapsed": false
   },
   "outputs": [
    {
     "name": "stdout",
     "output_type": "stream",
     "text": [
      " Welcome to the Tic-Tac-Toe game!\n",
      "            This would be a great way to compete against your computer.\n",
      "\n",
      "            The cells of the game are numbered 0-8.\n",
      "            Please check the board below:\n",
      "\n",
      "            0 | 1 | 2\n",
      "            ---------\n",
      "            3 | 4 | 5\n",
      "            ---------\n",
      "            6 | 7 | 8\n",
      "\n",
      "            Hope you're ready, 'cuz I was built ready!\n",
      "\n",
      "        \n"
     ]
    }
   ],
   "source": [
    "# Instructions\n",
    "def instructions():\n",
    "    \"\"\" Display game instructions \"\"\"\n",
    "    print(\n",
    "        \"\"\" Welcome to the Tic-Tac-Toe game!\n",
    "            This would be a great way to compete against your computer.\n",
    "\n",
    "            The cells of the game are numbered 0-8.\n",
    "            Please check the board below:\n",
    "\n",
    "            0 | 1 | 2\n",
    "            ---------\n",
    "            3 | 4 | 5\n",
    "            ---------\n",
    "            6 | 7 | 8\n",
    "\n",
    "            Hope you're ready, 'cuz I was built ready!\n",
    "\n",
    "        \"\"\"\n",
    "        )\n",
    "    \n",
    "# Test your function\n",
    "instructions()"
   ]
  },
  {
   "cell_type": "markdown",
   "metadata": {},
   "source": [
    "# Inițializare - init_players(board)"
   ]
  },
  {
   "cell_type": "markdown",
   "metadata": {},
   "source": [
    "Vom avea nevoie de o funcție de inițializare a variabilelor globale ale jocului:\n",
    "    - în player1 și player2 vom ține numele celor 2 jucători, primite  input.\n",
    "    - score1 și score2 vor fi inițial egale cu zero.\n",
    "    - turn - inițial 1, se va tot switch-ui între 1 și 2, în functie de rândul cui este.\n"
   ]
  },
  {
   "cell_type": "code",
   "execution_count": 67,
   "metadata": {
    "collapsed": true
   },
   "outputs": [],
   "source": [
    "def init_players():\n",
    "    #TODO 1: Tip: The variables you are going to change here, are globals\n",
    "\n",
    "    #TODO 2: Let the user enter the name of each player\n",
    "    \n",
    "    #TODO 3: Initialize scores and turn\n",
    "    \n",
    "    # Delete the row below\n",
    "    pass\n"
   ]
  },
  {
   "cell_type": "markdown",
   "metadata": {},
   "source": [
    "# Afișare board - display_board(board)"
   ]
  },
  {
   "cell_type": "markdown",
   "metadata": {},
   "source": [
    "board = dicționar cu:\n",
    "cheia - indexul căsuței\n",
    "valoarea - “ “, “x” sau “0”\n",
    "Inițial valoarea este “ “, pentru fiecare index.\n",
    "\n",
    "Nu vom face inițializarea board-ului aici; doar îl vom afișa, așa cum sugerează și numele funcției."
   ]
  },
  {
   "cell_type": "code",
   "execution_count": 68,
   "metadata": {
    "collapsed": true
   },
   "outputs": [],
   "source": [
    "def display_board(board):\n",
    "    print(\"\", board[0], \" | \", board[1], \" | \", board[2], \"\")\n",
    "    print(\"---------------\")\n",
    "    print(\"\", board[3], \" | \", board[4], \" | \", board[5], \"\")\n",
    "    print(\"---------------\")\n",
    "    print(\"\", board[6], \" | \", board[7], \" | \", board[8], \"\")"
   ]
  },
  {
   "cell_type": "markdown",
   "metadata": {},
   "source": [
    "# Move - move(board, turn)"
   ]
  },
  {
   "cell_type": "markdown",
   "metadata": {},
   "source": [
    "Algoritm: \n",
    "    - Inițializare cu “x” simbolul de așezat la mutarea curentă.\n",
    "    - În funcție de valoarea lui turn, primit ca parametru, simbolul nostru se va modifica (va deveni “0”).\n",
    "    - Variabila pos va fi inițializată la o valoare dată de user de la tastatură și castată la int.\n",
    "    - Cât timp user-ul dă indexul unei căsuțe ocupate, îi vom da un mesaj de avertisment, și îl lăsăm să aleagă o altă poziție.\n",
    "    - Când am primit indexul unei căsuțe valide, setăm valoarea din board corespunzătoare acestui index la valoarea ținută de variabila symbol.\n"
   ]
  },
  {
   "cell_type": "code",
   "execution_count": 69,
   "metadata": {
    "collapsed": true
   },
   "outputs": [],
   "source": [
    "# TODO 6: Check boundaries and return True if pos is between them\n",
    "def valid_position(pos):\n",
    "    pass\n",
    "\n",
    "def move(board, turn):\n",
    "    symbol = \"x\"\n",
    "    # TODO 4: if turn is not 1, symbol has to be \"0\"\n",
    "\n",
    "    # TODO 5: Ask the user to select position and assign it to pos\n",
    "    #pos = \n",
    "    \n",
    "    # TODO 6: Check position boundaries ^. Use function in Loop.\n",
    "    # TODO 7: While the position chosen is not free, or if it is invalid \n",
    "    # (use valid_position function here)\n",
    "    # give the user another chances to do it right :)\n",
    "    \n",
    "    # TODO 8: \n",
    "    # Outside of the loop: put the symbol on the corresponding position in board\n",
    "    \n",
    "    return board"
   ]
  },
  {
   "cell_type": "markdown",
   "metadata": {},
   "source": [
    "# Check Win -  check_win(board, turn)"
   ]
  },
  {
   "cell_type": "markdown",
   "metadata": {},
   "source": [
    "Algoritm:\n",
    "    - Presupunem inițial că nu se va câștiga de nicio parte la runda aceasta => win = False\n",
    "    - Apoi verificăm diagonalele, liniile laterale și verticalalele, dacă nu cumva conțin un același simbol. Dacă da, se va returna True (= svem un câștigător)."
   ]
  },
  {
   "cell_type": "code",
   "execution_count": 70,
   "metadata": {
    "collapsed": true
   },
   "outputs": [],
   "source": [
    "def check_win(board, turn):\n",
    "    win = False\n",
    "    msg = [\"\" + player1 + \" won!\", \"\" + player2 + \"won\"]\n",
    "    for i in range(0, 3):\n",
    "        # VERTICAL:     HORIZONTAL:\n",
    "        # [0, 3, 6]     [0, 1, 2]\n",
    "        # [1, 4, 7]     [3, 4, 5]\n",
    "        # [2, 6, 8]     [6, 7, 8]\n",
    "        \n",
    "        # TODO 9: Check win on line/col i, if yes, set win = True\n",
    "        # Find a formula to reuse code, taking into consideration the \n",
    "        # indices provided above and their order.\n",
    "        \n",
    "        # Remove the line below\n",
    "        break\n",
    "\n",
    "    # DIAG PRINC:\n",
    "    # [0, 4, 8]\n",
    "    # TODO 10\n",
    "    \n",
    "    # DIAG SEC:\n",
    "    # [2, 4, 6]\n",
    "    # TODO 11:\n",
    "    \n",
    "    if win == True:\n",
    "        print(msg[turn - 1])\n",
    "    \n",
    "    return win\n"
   ]
  },
  {
   "cell_type": "markdown",
   "metadata": {},
   "source": [
    "# Putting it all together"
   ]
  },
  {
   "cell_type": "code",
   "execution_count": 71,
   "metadata": {
    "collapsed": false
   },
   "outputs": [
    {
     "name": "stdout",
     "output_type": "stream",
     "text": [
      " Welcome to the Tic-Tac-Toe game!\n",
      "            This would be a great way to compete against your computer.\n",
      "\n",
      "            The cells of the game are numbered 0-8.\n",
      "            Please check the board below:\n",
      "\n",
      "            0 | 1 | 2\n",
      "            ---------\n",
      "            3 | 4 | 5\n",
      "            ---------\n",
      "            6 | 7 | 8\n",
      "\n",
      "            Hope you're ready, 'cuz I was built ready!\n",
      "\n",
      "        \n",
      "Player1: 1\n",
      "Player2: 2\n",
      "    |     |    \n",
      "---------------\n",
      "    |     |    \n",
      "---------------\n",
      "    |     |    \n",
      "It is player  1  turn to make a move!\n",
      "Select position: 1\n",
      "    |  x  |    \n",
      "---------------\n",
      "    |     |    \n",
      "---------------\n",
      "    |     |    \n",
      "It is player  2  turn to make a move!\n",
      "Select position: 2\n",
      "    |  x  |  0 \n",
      "---------------\n",
      "    |     |    \n",
      "---------------\n",
      "    |     |    \n",
      "It is player  1  turn to make a move!\n",
      "Select position: 0\n",
      " x  |  x  |  0 \n",
      "---------------\n",
      "    |     |    \n",
      "---------------\n",
      "    |     |    \n",
      "It is player  2  turn to make a move!\n",
      "Select position: 3\n",
      " x  |  x  |  0 \n",
      "---------------\n",
      " 0  |     |    \n",
      "---------------\n",
      "    |     |    \n",
      "It is player  1  turn to make a move!\n",
      "Select position: 4\n",
      " x  |  x  |  0 \n",
      "---------------\n",
      " 0  |  x  |    \n",
      "---------------\n",
      "    |     |    \n",
      "It is player  2  turn to make a move!\n",
      "Select position: 5\n",
      " x  |  x  |  0 \n",
      "---------------\n",
      " 0  |  x  |  0 \n",
      "---------------\n",
      "    |     |    \n",
      "It is player  1  turn to make a move!\n",
      "Select position: 7\n",
      " x  |  x  |  0 \n",
      "---------------\n",
      " 0  |  x  |  0 \n",
      "---------------\n",
      "    |  x  |    \n",
      "1 won!\n",
      "Press the ENTER key to exit...6\n"
     ]
    }
   ],
   "source": [
    "# main\n",
    "def main():\n",
    "    global turn\n",
    "    board = {0:\" \", 1:\" \", 2:\" \", 3:\" \", 4:\" \", 5:\" \", 6:\" \", 7:\" \", 8:\" \"}\n",
    "    no_of_moves = 0\n",
    "    instructions()\n",
    "    init_players()\n",
    "    display_board(board)\n",
    "\n",
    "    # TODO 12:\n",
    "    # While I still have moves (not all the cells are filled)\n",
    "    # and no one won do:\n",
    "    #    a) print whose turn is\n",
    "    #    b) set board to the result of move function\n",
    "    #    c) display board\n",
    "    #    d) increment number ob moves\n",
    "    #    e) next player's turn\n",
    "    \n",
    "    input(\"Press the ENTER key to exit...\")    \n",
    "main()"
   ]
  }
 ],
 "metadata": {
  "anaconda-cloud": {},
  "celltoolbar": "Edit Metadata",
  "kernelspec": {
   "display_name": "Python [default]",
   "language": "python",
   "name": "python3"
  },
  "language_info": {
   "codemirror_mode": {
    "name": "ipython",
    "version": 3
   },
   "file_extension": ".py",
   "mimetype": "text/x-python",
   "name": "python",
   "nbconvert_exporter": "python",
   "pygments_lexer": "ipython3",
   "version": "3.5.2"
  },
  "nbpresent": {
   "slides": {},
   "themes": {
    "default": "9a424f82-b123-4743-9122-1591622f36b3",
    "theme": {
     "9a424f82-b123-4743-9122-1591622f36b3": {
      "id": "9a424f82-b123-4743-9122-1591622f36b3",
      "palette": {
       "19cc588f-0593-49c9-9f4b-e4d7cc113b1c": {
        "id": "19cc588f-0593-49c9-9f4b-e4d7cc113b1c",
        "rgb": [
         252,
         252,
         252
        ]
       },
       "31af15d2-7e15-44c5-ab5e-e04b16a89eff": {
        "id": "31af15d2-7e15-44c5-ab5e-e04b16a89eff",
        "rgb": [
         68,
         68,
         68
        ]
       },
       "50f92c45-a630-455b-aec3-788680ec7410": {
        "id": "50f92c45-a630-455b-aec3-788680ec7410",
        "rgb": [
         155,
         177,
         192
        ]
       },
       "c5cc3653-2ee1-402a-aba2-7caae1da4f6c": {
        "id": "c5cc3653-2ee1-402a-aba2-7caae1da4f6c",
        "rgb": [
         43,
         126,
         184
        ]
       },
       "efa7f048-9acb-414c-8b04-a26811511a21": {
        "id": "efa7f048-9acb-414c-8b04-a26811511a21",
        "rgb": [
         25.118061674008803,
         73.60176211453744,
         107.4819383259912
        ]
       }
      },
      "rules": {
       "blockquote": {
        "color": "50f92c45-a630-455b-aec3-788680ec7410"
       },
       "code": {
        "font-family": "Anonymous Pro"
       },
       "h1": {
        "color": "c5cc3653-2ee1-402a-aba2-7caae1da4f6c",
        "font-family": "Lato",
        "font-size": 8
       },
       "h2": {
        "color": "c5cc3653-2ee1-402a-aba2-7caae1da4f6c",
        "font-family": "Lato",
        "font-size": 6
       },
       "h3": {
        "color": "50f92c45-a630-455b-aec3-788680ec7410",
        "font-family": "Lato",
        "font-size": 5.5
       },
       "h4": {
        "color": "c5cc3653-2ee1-402a-aba2-7caae1da4f6c",
        "font-family": "Lato",
        "font-size": 5
       },
       "h5": {
        "font-family": "Lato"
       },
       "h6": {
        "font-family": "Lato"
       },
       "h7": {
        "font-family": "Lato"
       },
       "pre": {
        "font-family": "Anonymous Pro",
        "font-size": 4
       }
      },
      "text-base": {
       "font-family": "Merriweather",
       "font-size": 4
      }
     }
    }
   }
  }
 },
 "nbformat": 4,
 "nbformat_minor": 1
}
