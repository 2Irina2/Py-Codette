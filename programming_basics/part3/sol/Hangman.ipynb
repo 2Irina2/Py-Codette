{
 "cells": [
  {
   "cell_type": "markdown",
   "metadata": {},
   "source": [
    "# The Hangman Game"
   ]
  },
  {
   "cell_type": "markdown",
   "metadata": {},
   "source": [
    "Ce altă structură de date poate fi mai potrivită pentru un program de tip Hangman game, dacă nu un dicționar?\n",
    "Aplicația următoare ar trebui să vă ajute să înțelegeți cum putem folosi ceea ce am învățat despre dictionare acum câteva minute, în cadrul prezentării."
   ]
  },
  {
   "cell_type": "markdown",
   "metadata": {},
   "source": [
    "În continuare, urmărind pașii de mai jos și indicațiile trainerilor, vom realiza propria variantă a jocului \"Spânzurătoarea\".\n",
    "\n",
    "Spoiler alert: \n",
    "   - Într-un workshop următor, vom realiza și o interfață corespunzătoare pentru acest joc.\n",
    "   - Dar, momentan ne vom concentra asupra functionalității, cu o interfațare simplistă."
   ]
  },
  {
   "cell_type": "markdown",
   "metadata": {},
   "source": [
    "# Pasul 1 - Definire de constante"
   ]
  },
  {
   "cell_type": "markdown",
   "metadata": {},
   "source": [
    "Desenarea “spânzuratului” în 5 variante:\n",
    "    - Cap\n",
    "    - Mâna stângă\n",
    "    - Mâna dreaptă \n",
    "    - Picior stâng\n",
    "    - Picior drept\n",
    "\n",
    "Puteți lua drept punct de reper modelul de ASCII Art de mai jos:\n",
    "\n",
    "    -------\n",
    "    |     |\n",
    "    |     O\n",
    "    |   /-+-/\n",
    "    |     |\n",
    "    |     |\n",
    "    |    | |\n",
    "    |    | |\n",
    "    |\n",
    "    ----------\n",
    "    \n",
    "Plasăm toate stările “spânzuratului” într-un tuplu de string-uri definite cu ghilimele triple."
   ]
  },
  {
   "cell_type": "code",
   "execution_count": 5,
   "metadata": {
    "collapsed": true
   },
   "outputs": [],
   "source": [
    "# Hangman Game\n",
    "#\n",
    "# The classic game of Hangman. The computer picks a random word\n",
    "# and the player wrong to guess it, one letter at a time. If the player\n",
    "# can't guess the word in time, the little stick figure gets hanged.\n",
    "# imports\n",
    "\n",
    "import random\n",
    "\n",
    "# constants\n",
    "HANGMAN = (\n",
    "\"\"\"\n",
    "------\n",
    "|    |\n",
    "|\n",
    "|\n",
    "|\n",
    "|\n",
    "|\n",
    "|\n",
    "|\n",
    "----------\n",
    "\"\"\",\n",
    "\"\"\"\n",
    "------\n",
    "|    |\n",
    "|    O\n",
    "|   -+-\n",
    "|\n",
    "|\n",
    "|\n",
    "|\n",
    "|\n",
    "----------\n",
    "\"\"\",\n",
    "\n",
    "\"\"\"\n",
    "------\n",
    "|    |\n",
    "|    O\n",
    "|  /-+-\n",
    "|\n",
    "|\n",
    "|\n",
    "|\n",
    "|\n",
    "----------\n",
    "\"\"\",\n",
    "\"\"\"\n",
    "------\n",
    "|    |\n",
    "|    O\n",
    "|  /-+-/\n",
    "|\n",
    "|\n",
    "|\n",
    "|\n",
    "|\n",
    "----------\n",
    "\"\"\",\n",
    "\"\"\"\n",
    "------\n",
    "|    |\n",
    "|    O\n",
    "|  /-+-/\n",
    "|    |\n",
    "|\n",
    "|\n",
    "|\n",
    "|\n",
    "----------\n",
    "\"\"\",\n",
    "\"\"\"\n",
    "------\n",
    "|    |\n",
    "|    O\n",
    "|  /-+-/\n",
    "|    |\n",
    "|    |\n",
    "|   |\n",
    "|   |\n",
    "|\n",
    "----------\n",
    "\"\"\",\n",
    "\"\"\"\n",
    "------\n",
    "|    |\n",
    "|    O\n",
    "|  /-+-/\n",
    "|    |\n",
    "|    |\n",
    "|   | |\n",
    "|   | |\n",
    "|\n",
    "----------\n",
    "\"\"\")\n",
    "\n",
    "# How many wrong guesses?\n",
    "MAX_WRONG = len(HANGMAN) - 1\n",
    "\n",
    "WORDS = (\"dinosaur\", \"mirror\", \"pterodactyl\", \"seinfeld\", \"pancackes\", \"programming\", \"mathematics\",\n",
    "         \"potato\", \"midnight\", \"schreddinger\", \"schnitzel\", \"haskell\", \"dostoievski\", \"automotive\",\n",
    "         \"freescale\", \"apricots\", \"birthday\", \"elephant\", \"facebook\", \"switzerland\", \"cucumber\")\n"
   ]
  },
  {
   "cell_type": "markdown",
   "metadata": {},
   "source": [
    "# Pasul 2 - Inițializare variabile"
   ]
  },
  {
   "cell_type": "markdown",
   "metadata": {},
   "source": [
    "Ca să îndeplinim acest pas, vom folosi variabilele de mai jos, pentru care avem și o mică descriere a utilității, în comentarii."
   ]
  },
  {
   "cell_type": "code",
   "execution_count": 6,
   "metadata": {
    "collapsed": true
   },
   "outputs": [],
   "source": [
    "# initialize variables\n",
    "# the word to be guessed\n",
    "word = random.choice(WORDS)\n",
    "\n",
    "# one dash for each letter in word to be guessed\n",
    "so_far = \"-\" * len(word)\n",
    "\n",
    "# number of wrong guesses player has made\n",
    "wrong = 0\n",
    "\n",
    "# letters already guessed\n",
    "used = []"
   ]
  },
  {
   "cell_type": "markdown",
   "metadata": {},
   "source": [
    "# Pas 3 - Crearea buclei principale"
   ]
  },
  {
   "cell_type": "markdown",
   "metadata": {},
   "source": [
    "Bucla principală este cea în care se intră atâta timp cât nu am ghicit, dar mai avem încercări încă. Ceea ce se traduce ca:\n",
    "wrong < MAX_WRONG and so_far != word:\n",
    "\n",
    "\n",
    "Apoi, primele lucruri pe care le vom face în buclă, vor fi niște print-uri:\n",
    "   - HANGMAN[wrong]: în funcție de câte litere am greșit, voi avea un spânzurat cât mai complet desenat.\n",
    "   - Litere folosite\n",
    "   - Cuvântul format până în acest moment al jocului\n"
   ]
  },
  {
   "cell_type": "markdown",
   "metadata": {},
   "source": [
    "# Pas 4 - Input de la user"
   ]
  },
  {
   "cell_type": "markdown",
   "metadata": {},
   "source": [
    "Preluăm litera curentă încercată de user și verificăm să nu apară în lista de litere deja încercate. \n",
    "Dacă apare, lăsăm utilizatorul să tot introducă litere, până nimerește o literă neîncercată so far :)"
   ]
  },
  {
   "cell_type": "markdown",
   "metadata": {},
   "source": [
    "# Pas 5 - Verificare input"
   ]
  },
  {
   "cell_type": "markdown",
   "metadata": {},
   "source": [
    "Acum urmează partea cea mai challenging: va trebui să facem logica jocului.\n",
    "Primul lucru, trebuie să verificăm dacă litera din guess se află în cuvântul de ghicit:\n",
    "   - Dacă da, ne trebuie un for, pentru a itera prin literele cuvântului nostru și pentru a determina poziția literei ghicite în cuvânt, astfel că pe acea poziție, în so_far, vom înlocui _ cu guess.\n",
    "   - Altfel, vom înștiința user-ul printr-un mesaj că nu a ghicit de această dată, apoi vom incrementa variabila wrong, care ne dă numărul de litere greșite până în momentul curent.\n"
   ]
  },
  {
   "cell_type": "code",
   "execution_count": 7,
   "metadata": {
    "collapsed": false
   },
   "outputs": [
    {
     "name": "stdout",
     "output_type": "stream",
     "text": [
      "Welcome to Hangman. Good luck!\n",
      "\n",
      "------\n",
      "|    |\n",
      "|\n",
      "|\n",
      "|\n",
      "|\n",
      "|\n",
      "|\n",
      "|\n",
      "----------\n",
      "\n",
      "\n",
      "You've used the following letters:\n",
      " []\n",
      "\n",
      "So far, the word is:\n",
      " ------\n",
      "\n",
      "\n",
      "Enter your guess: a\n",
      "\n",
      "Yes! a is in the word!\n",
      "\n",
      "------\n",
      "|    |\n",
      "|\n",
      "|\n",
      "|\n",
      "|\n",
      "|\n",
      "|\n",
      "|\n",
      "----------\n",
      "\n",
      "\n",
      "You've used the following letters:\n",
      " ['a']\n",
      "\n",
      "So far, the word is:\n",
      " ---a--\n",
      "\n",
      "\n",
      "Enter your guess: b\n",
      "\n",
      "Sorry, b isn't in the word.\n",
      "\n",
      "------\n",
      "|    |\n",
      "|    O\n",
      "|   -+-\n",
      "|\n",
      "|\n",
      "|\n",
      "|\n",
      "|\n",
      "----------\n",
      "\n",
      "\n",
      "You've used the following letters:\n",
      " ['a', 'b']\n",
      "\n",
      "So far, the word is:\n",
      " ---a--\n",
      "\n",
      "\n",
      "Enter your guess: c\n",
      "\n",
      "Sorry, c isn't in the word.\n",
      "\n",
      "------\n",
      "|    |\n",
      "|    O\n",
      "|  /-+-\n",
      "|\n",
      "|\n",
      "|\n",
      "|\n",
      "|\n",
      "----------\n",
      "\n",
      "\n",
      "You've used the following letters:\n",
      " ['a', 'b', 'c']\n",
      "\n",
      "So far, the word is:\n",
      " ---a--\n",
      "\n",
      "\n",
      "Enter your guess: d\n",
      "\n",
      "Sorry, d isn't in the word.\n",
      "\n",
      "------\n",
      "|    |\n",
      "|    O\n",
      "|  /-+-/\n",
      "|\n",
      "|\n",
      "|\n",
      "|\n",
      "|\n",
      "----------\n",
      "\n",
      "\n",
      "You've used the following letters:\n",
      " ['a', 'b', 'c', 'd']\n",
      "\n",
      "So far, the word is:\n",
      " ---a--\n",
      "\n",
      "\n",
      "Enter your guess: e\n",
      "\n",
      "Sorry, e isn't in the word.\n",
      "\n",
      "------\n",
      "|    |\n",
      "|    O\n",
      "|  /-+-/\n",
      "|    |\n",
      "|\n",
      "|\n",
      "|\n",
      "|\n",
      "----------\n",
      "\n",
      "\n",
      "You've used the following letters:\n",
      " ['a', 'b', 'c', 'd', 'e']\n",
      "\n",
      "So far, the word is:\n",
      " ---a--\n",
      "\n",
      "\n",
      "Enter your guess: f\n",
      "\n",
      "Sorry, f isn't in the word.\n",
      "\n",
      "------\n",
      "|    |\n",
      "|    O\n",
      "|  /-+-/\n",
      "|    |\n",
      "|    |\n",
      "|   |\n",
      "|   |\n",
      "|\n",
      "----------\n",
      "\n",
      "\n",
      "You've used the following letters:\n",
      " ['a', 'b', 'c', 'd', 'e', 'f']\n",
      "\n",
      "So far, the word is:\n",
      " ---a--\n",
      "\n",
      "\n",
      "Enter your guess: g\n",
      "\n",
      "Sorry, g isn't in the word.\n"
     ]
    }
   ],
   "source": [
    "print(\"Welcome to Hangman. Good luck!\")\n",
    "while wrong < MAX_WRONG and so_far != word:\n",
    "    print(HANGMAN[wrong])\n",
    "    print(\"\\nYou've used the following letters:\\n\", used)\n",
    "    print(\"\\nSo far, the word is:\\n\", so_far)\n",
    "\n",
    "    guess = input(\"\\n\\nEnter your guess: \")\n",
    "    guess = guess.lower()\n",
    "    while guess in used:\n",
    "        print(\"You've already guessed the letter\", guess)\n",
    "        guess = input(\"Enter your guess: \")\n",
    "        guess = guess.lower()\n",
    "\n",
    "    used.append(guess)\n",
    "\n",
    "    if guess in word:\n",
    "        print(\"\\nYes!\", guess, \"is in the word!\")\n",
    "        # create a new so_far to include guess\n",
    "        new = \"\"\n",
    "        \n",
    "        for i in range(len(word)):\n",
    "            if guess == word[i]:\n",
    "                new += guess\n",
    "            else:\n",
    "                new += so_far[i]\n",
    "        so_far = new\n",
    "    else:\n",
    "        print(\"\\nSorry,\", guess, \"isn't in the word.\")\n",
    "        wrong += 1"
   ]
  },
  {
   "cell_type": "markdown",
   "metadata": {},
   "source": [
    "# Pas 6 - Finalizare joc:"
   ]
  },
  {
   "cell_type": "markdown",
   "metadata": {},
   "source": [
    "Vom implementa un final corespunzător pentru orice joc de acest fel.\n",
    "Astfel, afară din bucla principală, vom introduce o verificare pe numărul de greșeli, iar dacă s-a ajuns la numărul maxim permis de greșeli, atunci vom afișa mesajul corespunzător, plus starea spânzuratului de final.\n",
    "\n",
    "\n",
    "Altfel, felicităm user-ul și îi arătăm care era cuvântul. :) "
   ]
  },
  {
   "cell_type": "code",
   "execution_count": 8,
   "metadata": {
    "collapsed": false
   },
   "outputs": [
    {
     "name": "stdout",
     "output_type": "stream",
     "text": [
      "\n",
      "------\n",
      "|    |\n",
      "|    O\n",
      "|  /-+-/\n",
      "|    |\n",
      "|    |\n",
      "|   | |\n",
      "|   | |\n",
      "|\n",
      "----------\n",
      "\n",
      "\n",
      "You've been hanged!\n",
      "\n",
      "\n",
      "Press the enter key to exit.\n"
     ]
    },
    {
     "data": {
      "text/plain": [
       "''"
      ]
     },
     "execution_count": 8,
     "metadata": {},
     "output_type": "execute_result"
    }
   ],
   "source": [
    "if wrong == MAX_WRONG:\n",
    "    print(HANGMAN[wrong])\n",
    "    print(\"\\nYou've been hanged!\")\n",
    "else:\n",
    "    print(\"\\nYou guessed it!\")\n",
    "    print(\"\\nThe word was\", word)\n",
    "\n",
    "input(\"\\n\\nPress the enter key to exit.\")\n"
   ]
  }
 ],
 "metadata": {
  "anaconda-cloud": {},
  "kernelspec": {
   "display_name": "Python [default]",
   "language": "python",
   "name": "python3"
  },
  "language_info": {
   "codemirror_mode": {
    "name": "ipython",
    "version": 3
   },
   "file_extension": ".py",
   "mimetype": "text/x-python",
   "name": "python",
   "nbconvert_exporter": "python",
   "pygments_lexer": "ipython3",
   "version": "3.5.2"
  }
 },
 "nbformat": 4,
 "nbformat_minor": 1
}
