{
 "cells": [
  {
   "cell_type": "markdown",
   "metadata": {},
   "source": [
    "# The useless Trivia Game"
   ]
  },
  {
   "cell_type": "code",
   "execution_count": 1,
   "metadata": {
    "collapsed": false
   },
   "outputs": [
    {
     "name": "stdout",
     "output_type": "stream",
     "text": [
      "Hi. What's your name? Mihaela\n",
      "How old are you? 24\n",
      "Okay, last question. How many pounds do you weigh? 90\n",
      "\n",
      "If poet ee cummings were to email you, he'd address you as mihaela\n",
      "But if ee were mad, he'd call you MIHAELA\n",
      "\n",
      "If a small child were trying to get your attention\n",
      "your name would become:\n",
      "MihaelaMihaelaMihaelaMihaelaMihaela\n",
      "\n",
      "You’re over 756864000 seconds old.\n",
      "\n",
      "Did you know that on the moon you would weigh only 15.0 pounds?\n",
      "On the sun, you'd weigh 2439.0 (but, ah... not for long).\n",
      "\n",
      "\n",
      "Press the enter key to exit.\n"
     ]
    },
    {
     "data": {
      "text/plain": [
       "''"
      ]
     },
     "execution_count": 1,
     "metadata": {},
     "output_type": "execute_result"
    }
   ],
   "source": [
    "# Useless Trivia\n",
    "# © Michaela Dawson (with modifications)\n",
    "# Gets personal information from the user and then\n",
    "# prints true but useless information about him or her\n",
    "\n",
    "# TODO1\n",
    "# Get input from the user.\n",
    "# Pay attention to types\n",
    "name = input(\"Hi. What's your name? \")\n",
    "\n",
    "#age = TODO 1\n",
    "#weight = TODO 1\n",
    "\n",
    "# TODO 2\n",
    "# Convert all letters in name to lower case\n",
    "print(\"\\nIf poet ee cummings were to email you, he'd address you as\",\n",
    "\"TODO 2\")\n",
    "\n",
    "# TODO 3\n",
    "# Convert all letters in name to upper case\n",
    "print(\"But if ee were mad, he'd call you\", \"TODO 3\")\n",
    "\n",
    "# TODO 4\n",
    "# called should be the name concatenated to itself 5 times\n",
    "# you are not allowed to actually write the name 5 times :)\n",
    "called = \"TODO 4\"\n",
    "print(\"\\nIf a small child were trying to get your attention\",)\n",
    "print(\"your name would become:\")\n",
    "print(called)\n",
    "\n",
    "seconds = age * 365 * 24 * 60 * 60\n",
    "print(\"\\nYou’re over\", seconds, \"seconds old.\")\n",
    "\n",
    "moon_weight = weight / 6\n",
    "print(\"\\nDid you know that on the moon you would weigh only\",\n",
    "moon_weight, \"pounds?\")\n",
    "\n",
    "# TODO 5\n",
    "# your weight multiplied by 27.1\n",
    "sun_weight = 0 #TODO\n",
    "print(\"On the sun, you'd weigh\", sun_weight, \"(but, ah... not for long).\")\n",
    "\n",
    "input(\"\\n\\nPress the enter key to exit.\")"
   ]
  }
 ],
 "metadata": {
  "anaconda-cloud": {},
  "kernelspec": {
   "display_name": "Python [conda root]",
   "language": "python",
   "name": "conda-root-py"
  },
  "language_info": {
   "codemirror_mode": {
    "name": "ipython",
    "version": 3
   },
   "file_extension": ".py",
   "mimetype": "text/x-python",
   "name": "python",
   "nbconvert_exporter": "python",
   "pygments_lexer": "ipython3",
   "version": "3.5.2"
  }
 },
 "nbformat": 4,
 "nbformat_minor": 1
}
