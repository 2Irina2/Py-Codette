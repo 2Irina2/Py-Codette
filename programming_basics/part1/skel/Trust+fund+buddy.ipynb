{
 "cells": [
  {
   "cell_type": "markdown",
   "metadata": {},
   "source": [
    "# Trust Fund Buddy"
   ]
  },
  {
   "cell_type": "markdown",
   "metadata": {},
   "source": [
    "Acest program are scopul de a demonstra o greșeală comună făcută de începătorii într-ale Python-ului.\n",
    "Găsiți greșeala și corectați-o! :)"
   ]
  },
  {
   "cell_type": "code",
   "execution_count": 3,
   "metadata": {
    "collapsed": false
   },
   "outputs": [
    {
     "name": "stdout",
     "output_type": "stream",
     "text": [
      "\n",
      "Trust Fund Buddy\n",
      "Totals your monthly spending so that your trust fund doesn't run out\n",
      "(and you're forced to get a real job).\n",
      "Please enter the requested, monthly costs. Since you're a student, \n",
      "don't go up to hundreds or thousands of dollars.  \n",
      "\n",
      "Lunch money: 2\n",
      "Movie tickets price: 3\n",
      "Amount of money spent in the club: 4\n",
      "Gifts: 12\n",
      "How many \"greenies\" for clothes? 3\n",
      "Money spent on transportation: 4\n",
      "Unexpected stuff: 2\n",
      "\n",
      "Grand Total: 23412342\n",
      "\n",
      "\n",
      "Press the enter key to exit.\n"
     ]
    },
    {
     "data": {
      "text/plain": [
       "''"
      ]
     },
     "execution_count": 3,
     "metadata": {},
     "output_type": "execute_result"
    }
   ],
   "source": [
    "# Trust Fund Buddy - Bad\n",
    "# Demonstrates a logical error\n",
    "\n",
    "print(\n",
    "\"\"\"\n",
    "Trust Fund Buddy\n",
    "Totals your monthly spending so that your trust fund doesn't run out\n",
    "(and you're forced to get a real job).\n",
    "Please enter the requested, monthly costs. Since you're a student, \n",
    "don't go up to hundreds or thousands of dollars.  \n",
    "\"\"\"\n",
    ")\n",
    "\n",
    "lunch_per_day = input(\"Lunch money: \")\n",
    "movie = input(\"Movie tickets price: \")\n",
    "club = input(\"Amount of money spent in the club: \")\n",
    "gifts = input(\"Gifts: \")\n",
    "clothes = input(\"How many \\\"greenies\\\" for clothes? \")\n",
    "sub_tickets = input(\"Money spent on transportation: \")\n",
    "other = input(\"Unexpected stuff: \")\n",
    "\n",
    "total = lunch_per_day + movie + club + gifts + clothes + sub_tickets + other\n",
    "\n",
    "print(\"\\nGrand Total:\", total)\n",
    "\n",
    "input(\"\\n\\nPress the enter key to exit.\")"
   ]
  }
 ],
 "metadata": {
  "anaconda-cloud": {},
  "kernelspec": {
   "display_name": "Python [conda root]",
   "language": "python",
   "name": "conda-root-py"
  }
 },
 "nbformat": 4,
 "nbformat_minor": 1
}
