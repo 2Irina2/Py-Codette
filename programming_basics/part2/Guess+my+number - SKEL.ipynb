{
 "cells": [
  {
   "cell_type": "markdown",
   "metadata": {},
   "source": [
    "# Guess my number"
   ]
  },
  {
   "cell_type": "markdown",
   "metadata": {},
   "source": [
    "Scopul acestei aplicatii este acela de a creea un mic programel de ghicire a numarului dat random de program."
   ]
  },
  {
   "cell_type": "code",
   "execution_count": null,
   "metadata": {
    "collapsed": false
   },
   "outputs": [
    {
     "name": "stdout",
     "output_type": "stream",
     "text": [
      "\tWelcome to 'Guess My Number'!\n",
      "\n",
      "I'm thinking of a number between 1 and 100.\n",
      "Try to guess it in as few attempts as possible.\n",
      "\n",
      "Take a guess: 4\n",
      "Higher...\n",
      "Take a guess: 8\n",
      "Higher...\n",
      "Take a guess: 40\n",
      "Lower...\n",
      "Take a guess: 20\n",
      "Higher...\n",
      "Take a guess: 30\n",
      "Lower...\n",
      "Take a guess: 25\n",
      "Higher...\n",
      "Take a guess: 27\n",
      "You guessed it! The number was 27\n",
      "And it only took you 7 tries!\n",
      "\n"
     ]
    }
   ],
   "source": [
    "# Guess My Number\n",
    "#\n",
    "# Random number chosen between 1 and 100\n",
    "# The player tries to guess it and the computer lets\n",
    "# the player know if the guess is too high, too low\n",
    "# or right on the money\n",
    "\n",
    "import random\n",
    "\n",
    "print(\"\\tWelcome to 'Guess My Number'!\")\n",
    "print(\"\\nI'm thinking of a number between 1 and 100.\")\n",
    "print(\"Try to guess it in as few attempts as possible.\\n\")\n",
    "\n",
    "# set the initial values\n",
    "# TODO 1 - initialize the number to a random value between 1 and 100\n",
    "#the_number = \n",
    "guess = int(input(\"Take a guess: \"))\n",
    "tries = 1\n",
    "\n",
    "# guessing loop\n",
    "# TODO 2 - while the number guessed is no equal to the correct value\n",
    "# if it is lower ---> print lower, than print higher.\n",
    "# Than let the user enter a new guess and increment the number of tries.\n",
    "\n",
    "print(\"You guessed it! The number was\", the_number)\n",
    "print(\"And it only took you\", tries, \"tries!\\n\")\n",
    "\n",
    "input(\"\\n\\nPress the enter key to exit.\")\n"
   ]
  }
 ],
 "metadata": {
  "kernelspec": {
   "display_name": "Python 3",
   "language": "python",
   "name": "python3"
  },
  "language_info": {
   "codemirror_mode": {
    "name": "ipython",
    "version": 3
   },
   "file_extension": ".py",
   "mimetype": "text/x-python",
   "name": "python",
   "nbconvert_exporter": "python",
   "pygments_lexer": "ipython3",
   "version": "3.6.0"
  }
 },
 "nbformat": 4,
 "nbformat_minor": 2
}
