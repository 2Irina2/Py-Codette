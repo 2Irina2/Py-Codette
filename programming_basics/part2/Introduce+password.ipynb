{
 "cells": [
  {
   "cell_type": "markdown",
   "metadata": {},
   "source": [
    "# Introduce password"
   ]
  },
  {
   "cell_type": "code",
   "execution_count": 1,
   "metadata": {
    "collapsed": false
   },
   "outputs": [
    {
     "name": "stdout",
     "output_type": "stream",
     "text": [
      "Welcome to System Security Inc.\n",
      "-- where security is our middle name\n",
      "\n",
      "Enter your password: asjas a\n",
      "Access Denied\n",
      "Try again? yes/no\n",
      "mnamsa\n",
      "Invalid answer!\n",
      "Access Denied\n",
      "Try again? yes/no\n",
      "yes\n",
      "Enter your password: secret\n",
      "Access Granted\n",
      "\n",
      "\n",
      "Press the enter key to exit.\n"
     ]
    },
    {
     "data": {
      "text/plain": [
       "''"
      ]
     },
     "execution_count": 1,
     "metadata": {},
     "output_type": "execute_result"
    }
   ],
   "source": [
    "# Password v2\n",
    "# Demonstrates the while, if elif statements\n",
    "\n",
    "print(\"Welcome to System Security Inc.\")\n",
    "print(\"-- where security is our middle name\\n\")\n",
    "\n",
    "password = input(\"Enter your password: \")\n",
    "while password != \"secret\":\n",
    "    print(\"Access Denied\")\n",
    "\n",
    "    again = input(\"Try again? yes/no\\n\")\n",
    "    if again == \"yes\":\n",
    "        password = input(\"Enter your password: \")\n",
    "        continue\n",
    "    elif again == \"no\":\n",
    "        exit()\n",
    "    else:\n",
    "        print(\"Invalid answer!\")\n",
    "    \n",
    "print(\"Access Granted\")\n",
    "\n",
    "input(\"\\n\\nPress the enter key to exit.\")"
   ]
  }
 ],
 "metadata": {
  "kernelspec": {
   "display_name": "Python 3",
   "language": "python",
   "name": "python3"
  },
  "language_info": {
   "codemirror_mode": {
    "name": "ipython",
    "version": 3
   },
   "file_extension": ".py",
   "mimetype": "text/x-python",
   "name": "python",
   "nbconvert_exporter": "python",
   "pygments_lexer": "ipython3",
   "version": "3.6.0"
  }
 },
 "nbformat": 4,
 "nbformat_minor": 2
}
