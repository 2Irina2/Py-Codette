{
 "cells": [
  {
   "cell_type": "markdown",
   "metadata": {},
   "source": [
    "sudo -H pip3 install webbrowser"
   ]
  },
  {
   "cell_type": "code",
   "execution_count": 1,
   "metadata": {},
   "outputs": [
    {
     "data": {
      "text/plain": [
       "True"
      ]
     },
     "execution_count": 1,
     "metadata": {},
     "output_type": "execute_result"
    }
   ],
   "source": [
    "import webbrowser\n",
    "import time\n",
    "\n",
    "webbrowser.open('https://www.google.com/')\n",
    "\n",
    "# wait until the browser opens\n",
    "time.sleep(8)\n",
    "\n",
    "# Open your 3 favorites websites, each one in a new tab\n",
    "# webbrowser.open_new_tab('...')\n",
    "webbrowser.open_new_tab('https://www.facebook.com/')\n",
    "webbrowser.open_new_tab('https://twitter.com/')\n",
    "webbrowser.open_new_tab('https://www.pinterest.com/')\n",
    "\n",
    "# Open another browser than the default one\n",
    "chrome = webbrowser.get('chromium-browser')\n",
    "chrome.open('https://www.google.com')\n"
   ]
  }
 ],
 "metadata": {
  "kernelspec": {
   "display_name": "Python 3",
   "language": "python",
   "name": "python3"
  },
  "language_info": {
   "codemirror_mode": {
    "name": "ipython",
    "version": 3
   },
   "file_extension": ".py",
   "mimetype": "text/x-python",
   "name": "python",
   "nbconvert_exporter": "python",
   "pygments_lexer": "ipython3",
   "version": "3.5.2"
  }
 },
 "nbformat": 4,
 "nbformat_minor": 2
}
